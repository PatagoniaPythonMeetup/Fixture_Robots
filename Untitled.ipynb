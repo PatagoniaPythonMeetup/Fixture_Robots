{
 "cells": [
  {
   "cell_type": "code",
   "execution_count": 1,
   "metadata": {
    "collapsed": false
   },
   "outputs": [],
   "source": [
    "from Encuentro import Encuentro\n",
    "from Fixture import Fixture\n",
    "from Robot import Robot\n",
    "import random"
   ]
  },
  {
   "cell_type": "code",
   "execution_count": 2,
   "metadata": {
    "collapsed": false
   },
   "outputs": [],
   "source": [
    "robots = [Robot(\"Ultron\",\"Los Avengers\",\"Nick Fury\"),\n",
    "          Robot(\"Wall-e\",\"Pixar\",\"Sr. Disney\"),\n",
    "          Robot(\"Sony\",\"R&H Mecanicos\",\"Dt. Spooner\"),\n",
    "          Robot(\"Robocop\",\"O.C.P.\",\"Bob Morthon\"),\n",
    "          Robot(\"Terminator\",\"Skynet\",\"Jhon Connor\"),\n",
    "          Robot(\"R2-D2\",\"La Republica\",\"Obiwan Kenobi\"),\n",
    "          Robot(\"3-CPO\",\"La Republica\",\"Anakin Skywalker\"),\n",
    "          Robot(\"BB-8\",\"La Republica\",\"Poe Dameron\")]\n",
    "    \n",
    "fixture = Fixture(robots)"
   ]
  },
  {
   "cell_type": "code",
   "execution_count": 3,
   "metadata": {
    "collapsed": false
   },
   "outputs": [
    {
     "data": {
      "text/plain": [
       "[<Robot.Robot at 0x7f630c038080>,\n",
       " <Robot.Robot at 0x7f630c0380b8>,\n",
       " <Robot.Robot at 0x7f630c0380f0>,\n",
       " <Robot.Robot at 0x7f630c038128>,\n",
       " <Robot.Robot at 0x7f630c038160>,\n",
       " <Robot.Robot at 0x7f630c038198>,\n",
       " <Robot.Robot at 0x7f630c0381d0>,\n",
       " <Robot.Robot at 0x7f630c038208>]"
      ]
     },
     "execution_count": 3,
     "metadata": {},
     "output_type": "execute_result"
    }
   ],
   "source": [
    "fixture.robots"
   ]
  },
  {
   "cell_type": "code",
   "execution_count": 6,
   "metadata": {
    "collapsed": false
   },
   "outputs": [
    {
     "name": "stdout",
     "output_type": "stream",
     "text": [
      "Robots en juego:\n",
      "\n",
      "robs: [<Robot.Robot object at 0x7f630c038160>, <Robot.Robot object at 0x7f630c038208>]\n"
     ]
    }
   ],
   "source": [
    "fixture.cambiar_ronda(fixture.robots)"
   ]
  },
  {
   "cell_type": "code",
   "execution_count": 7,
   "metadata": {
    "collapsed": false
   },
   "outputs": [
    {
     "name": "stdout",
     "output_type": "stream",
     "text": [
      "Terminator de Skynet Vs: BB-8 de La Republica\n"
     ]
    }
   ],
   "source": [
    "for e in fixture.get_encuentros():\n",
    "    print(\"{0} de {1} Vs: {2} de {3}\".format(e.robot_l.nombre, e.robot_l.escuela, e.robot_v.nombre, e.robot_v.escuela))"
   ]
  },
  {
   "cell_type": "code",
   "execution_count": 9,
   "metadata": {
    "collapsed": false
   },
   "outputs": [
    {
     "name": "stdout",
     "output_type": "stream",
     "text": [
      "Ultron\n",
      "BB-8\n",
      "Sony\n",
      "R2-D2\n"
     ]
    }
   ],
   "source": [
    "for i, e in enumerate(fixture.get_encuentros()):\n",
    "    if i%2 ==0:\n",
    "        e.gano(e.robot_l.nombre)\n",
    "    else:\n",
    "        e.gano(e.robot_v.nombre)\n",
    "\n",
    "    print(e.get_ganador().nombre)"
   ]
  }
 ],
 "metadata": {
  "kernelspec": {
   "display_name": "Python 3",
   "language": "python",
   "name": "python3"
  },
  "language_info": {
   "codemirror_mode": {
    "name": "ipython",
    "version": 3
   },
   "file_extension": ".py",
   "mimetype": "text/x-python",
   "name": "python",
   "nbconvert_exporter": "python",
   "pygments_lexer": "ipython3",
   "version": "3.6.0"
  }
 },
 "nbformat": 4,
 "nbformat_minor": 2
}
